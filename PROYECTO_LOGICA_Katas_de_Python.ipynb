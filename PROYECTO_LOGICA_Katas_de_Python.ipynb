{
 "cells": [
  {
   "cell_type": "markdown",
   "metadata": {},
   "source": [
    " 1. Escribe una función que reciba una cadena de texto como parámetro y devuelva un diccionario con las frecuencias de cada letra en la cadena. Los espacios no deben ser considerados."
   ]
  },
  {
   "cell_type": "code",
   "execution_count": null,
   "metadata": {},
   "outputs": [],
   "source": [
    "\n",
    "def funcion_transformadora(cadena):\n",
    "    diccionario = {}\n",
    "    for letra in cadena.replace(\" \", \"\"):\n",
    "        letra = letra.lower()\n",
    "        if letra in diccionario:\n",
    "            diccionario[letra] +=1\n",
    "        else:\n",
    "            diccionario[letra] = 1\n",
    "    return diccionario        \n",
    "\n",
    "frase = input(print(\"Escribeme una frase:\"))\n",
    "diccionario_frase = funcion_transformadora(frase)\n",
    "print(diccionario_frase)        "
   ]
  },
  {
   "cell_type": "markdown",
   "metadata": {},
   "source": [
    "2. Dada una lista de números, obtén una nueva lista con el doble de cada valor. Usa la función map()"
   ]
  },
  {
   "cell_type": "code",
   "execution_count": null,
   "metadata": {},
   "outputs": [],
   "source": [
    "def duplicar_numeros(lista):\n",
    "    return lista*2"
   ]
  },
  {
   "cell_type": "code",
   "execution_count": null,
   "metadata": {},
   "outputs": [],
   "source": [
    "numeros = input(print(\"Escribe una lista de numeros: \"))\n",
    "lista_numeros = numeros.split(\",\")"
   ]
  },
  {
   "cell_type": "code",
   "execution_count": null,
   "metadata": {},
   "outputs": [],
   "source": [
    "nueva_lista = []\n",
    "for numero in lista_numeros:\n",
    "    numero_entero = int(numero)\n",
    "    nueva_lista.append(numero_entero)"
   ]
  },
  {
   "cell_type": "code",
   "execution_count": null,
   "metadata": {},
   "outputs": [],
   "source": [
    "lista_doble = map(duplicar_numeros,nueva_lista)"
   ]
  },
  {
   "cell_type": "code",
   "execution_count": null,
   "metadata": {},
   "outputs": [],
   "source": [
    "print(list(lista_doble))"
   ]
  },
  {
   "cell_type": "markdown",
   "metadata": {},
   "source": [
    "3. Escribe una función que tome una lista de palabras y una palabra objetivo como parámetros. La función debe\n",
    "devolver una lista con todas las palabras de la lista original que contengan la palabra objetivo."
   ]
  },
  {
   "cell_type": "code",
   "execution_count": null,
   "metadata": {},
   "outputs": [],
   "source": [
    "def lista_objetivo(lista,objetivo):\n",
    "    nueva_lista = []\n",
    "    for palabra in lista:    \n",
    "        if objetivo in palabra:\n",
    "            nueva_lista.append(palabra)\n",
    "    return nueva_lista"
   ]
  },
  {
   "cell_type": "code",
   "execution_count": null,
   "metadata": {},
   "outputs": [],
   "source": [
    "palabras = input(\"Dame una lista de palabras:\")\n",
    "lista_palabras = palabras.split(\",\")\n",
    "palabra_objetivo = input(\"Dame una palabra objetivo:\")"
   ]
  },
  {
   "cell_type": "code",
   "execution_count": null,
   "metadata": {},
   "outputs": [],
   "source": [
    "lista_final = lista_objetivo(lista_palabras,palabra_objetivo)"
   ]
  },
  {
   "cell_type": "code",
   "execution_count": null,
   "metadata": {},
   "outputs": [],
   "source": [
    "print(\"Palabras que contienen la palabra objetivo: \",lista_final)"
   ]
  },
  {
   "cell_type": "markdown",
   "metadata": {},
   "source": [
    "4. Genera una función que calcule la diferencia entre los valores de dos listas. Usa la función map()"
   ]
  },
  {
   "cell_type": "code",
   "execution_count": null,
   "metadata": {},
   "outputs": [],
   "source": [
    "def suma_valores(lista):\n",
    "    elementos = 0\n",
    "    return elementos + 1"
   ]
  },
  {
   "cell_type": "code",
   "execution_count": null,
   "metadata": {},
   "outputs": [],
   "source": [
    "def resta_valores(primera, segunda):\n",
    "    diferencia = len(primera) - len(segunda)\n",
    "    if diferencia < 0:\n",
    "        diferencia = abs(diferencia)\n",
    "    return diferencia"
   ]
  },
  {
   "cell_type": "code",
   "execution_count": null,
   "metadata": {},
   "outputs": [],
   "source": [
    "primera_lista = input(\"Dame una lista: \").split(\",\")\n",
    "segunda_lista = input(\"Dame una segunda lista: \").split(\",\")"
   ]
  },
  {
   "cell_type": "code",
   "execution_count": null,
   "metadata": {},
   "outputs": [],
   "source": [
    "suma_primera = list(map(suma_valores,primera_lista))\n",
    "suma_segunda = list(map(suma_valores,segunda_lista))"
   ]
  },
  {
   "cell_type": "code",
   "execution_count": null,
   "metadata": {},
   "outputs": [],
   "source": [
    "diferencia_listas = resta_valores(suma_primera,suma_segunda)\n",
    "print(diferencia_listas)"
   ]
  },
  {
   "cell_type": "markdown",
   "metadata": {},
   "source": [
    "5. Ecribe una función que tome una lista de números como parámetro y un valor opcional nota_aprobado, que por\n",
    "defecto es 5. La función debe calcular la media de los números en la lista y determinar si la media es mayor o igual\n",
    "que nota aprobado. Si es así, el estado será \"aprobado\", de lo contrario, será \"suspenso\". La función debe devolver\n",
    "una tupla que contenga la media y el estado."
   ]
  },
  {
   "cell_type": "code",
   "execution_count": null,
   "metadata": {},
   "outputs": [],
   "source": [
    "def nota_media(lista,nota_aprobado):\n",
    "    suma = 0\n",
    "    estado = \"\"\n",
    "    for numero in lista:\n",
    "        suma += float(numero)\n",
    "    media = round(suma/len(lista),2)\n",
    "    if media < nota_aprobado:\n",
    "        estado = \"Suspenso\"\n",
    "    else:\n",
    "        estado = \"Aprobado\"\n",
    "    return media,estado"
   ]
  },
  {
   "cell_type": "code",
   "execution_count": null,
   "metadata": {},
   "outputs": [],
   "source": [
    "notas = list(input(\"Dime tus notas: \").split(\",\"))"
   ]
  },
  {
   "cell_type": "code",
   "execution_count": null,
   "metadata": {},
   "outputs": [],
   "source": [
    "situacion = tuple(nota_media(notas,5))\n",
    "print(situacion)"
   ]
  },
  {
   "cell_type": "markdown",
   "metadata": {},
   "source": [
    "6. Escribe una función que calcule el factorial de un número de manera recursiva."
   ]
  },
  {
   "cell_type": "code",
   "execution_count": null,
   "metadata": {},
   "outputs": [],
   "source": [
    "def factorial(num):   \n",
    "    if num == 0 :\n",
    "        return 1\n",
    "    else:\n",
    "        return num * factorial(num - 1)\n"
   ]
  },
  {
   "cell_type": "code",
   "execution_count": null,
   "metadata": {},
   "outputs": [],
   "source": [
    "numero = int(input(\"Escribe un numero para realizar su factorial: \"))"
   ]
  },
  {
   "cell_type": "code",
   "execution_count": null,
   "metadata": {},
   "outputs": [],
   "source": [
    "factorial_numero = factorial(numero)\n",
    "print(factorial_numero)"
   ]
  },
  {
   "cell_type": "markdown",
   "metadata": {},
   "source": [
    "7. Genera una función que convierta una lista de tuplas a una lista de strings. Usa la función map()"
   ]
  },
  {
   "cell_type": "code",
   "execution_count": null,
   "metadata": {},
   "outputs": [],
   "source": [
    "lista_tuplas = [(\"hola\",\"adios\"),(5,25)]"
   ]
  },
  {
   "cell_type": "code",
   "execution_count": null,
   "metadata": {},
   "outputs": [],
   "source": [
    "lista_strings = list(map(str, sum(lista_tuplas, ())))\n",
    "print(lista_strings)"
   ]
  },
  {
   "cell_type": "markdown",
   "metadata": {},
   "source": [
    "8. Escribe un programa que pida al usuario dos números e intente dividirlos. Si el usuario ingresa un valor no numérico\n",
    "o intenta dividir por cero, maneja esas excepciones de manera adecuada. Asegúrate de mostrar un mensaje\n",
    "indicando si la división fue exitosa o no."
   ]
  },
  {
   "cell_type": "code",
   "execution_count": null,
   "metadata": {},
   "outputs": [],
   "source": [
    "try:\n",
    "    numerador = int(input(\"Escribe el numerador de la division: \"))\n",
    "    denominador = int(input(\"Escribe el denominador de la division: \"))\n",
    "    resultado = numerador/denominador\n",
    "    print(\"La division fue exitosa! El resultado es:\", resultado)\n",
    "except ValueError:\n",
    "    print(\"Introduce un numero valido\")\n",
    "except ZeroDivisionError:\n",
    "    print(\"Introduce un numero distinto de cero en el denominador\")"
   ]
  },
  {
   "cell_type": "markdown",
   "metadata": {},
   "source": [
    "9. Escribe una función que tome una lista de nombres de mascotas como parámetro y devuelva una nueva lista\n",
    "excluyendo ciertas mascotas prohibidas en España. La lista de mascotas a excluir es [\"Mapache\", \"Tigre\",\n",
    "\"Serpiente Pitón\", \"Cocodrilo\", \"Oso\"].Usa la función filter()"
   ]
  },
  {
   "cell_type": "code",
   "execution_count": null,
   "metadata": {},
   "outputs": [],
   "source": [
    "def filtrar(lista):\n",
    "    lista_exclusion = [\"Mapache\", \"Tigre\",\"Serpiente Pitón\", \"Cocodrilo\", \"Oso\"]\n",
    "    lista_exclusion_min = list(map(str.lower,lista_exclusion))\n",
    "    mascota_permitidas = filter(lambda mascota: mascota not in lista_exclusion_min, lista)\n",
    "    return list(mascota_permitidas)"
   ]
  },
  {
   "cell_type": "code",
   "execution_count": null,
   "metadata": {},
   "outputs": [],
   "source": [
    "lista_animales = input(\"Dame una lista de animales: \").split(\",\")\n",
    "resultado = filtrar(lista_animales)\n",
    "print(resultado)"
   ]
  },
  {
   "cell_type": "markdown",
   "metadata": {},
   "source": [
    "10. Escribe una función que reciba una lista de números y calcule su promedio. Si la lista está vacía, lanza una\n",
    "excepción personalizada y maneja el error adecuadamente."
   ]
  },
  {
   "cell_type": "code",
   "execution_count": null,
   "metadata": {},
   "outputs": [],
   "source": [
    "def promedio(lista):\n",
    "    suma = 0\n",
    "    for numero in lista:\n",
    "        numero = float(numero)\n",
    "        suma += numero\n",
    "    promedio = suma/len(lista_numeros)\n",
    "    print(\"El promedio es: \", promedio)"
   ]
  },
  {
   "cell_type": "code",
   "execution_count": null,
   "metadata": {},
   "outputs": [],
   "source": [
    "try:\n",
    "    lista_numeros = list(input(\"Dame una lista de numeros: \").split(\",\"))\n",
    "    promedio(lista_numeros)       \n",
    "except ValueError:\n",
    "    print(\"Escriba una lista completa de solo numeros\")\n",
    "except ZeroDivisionError:\n",
    "    print(\"Escriba al menos un numero en la lista\")"
   ]
  },
  {
   "cell_type": "markdown",
   "metadata": {},
   "source": [
    "11. Escribe un programa que pida al usuario que introduzca su edad. Si el usuario ingresa un valor no numérico o un\n",
    "valor fuera del rango esperado (por ejemplo, menor que 0 o mayor que 120), maneja las excepciones\n",
    "adecuadamente."
   ]
  },
  {
   "cell_type": "code",
   "execution_count": null,
   "metadata": {},
   "outputs": [],
   "source": [
    "try:    \n",
    "    edad = int(input(\"Dime tu edad: \")) \n",
    "    if edad < 0 or edad > 120:\n",
    "        print(\"Edad no valida, introduce un numero valido\")\n",
    "    else:      \n",
    "        print(\"Tu edad es:\", edad)\n",
    "except ValueError:\n",
    "    print(\"Introduce un valor numerico valido\")"
   ]
  },
  {
   "cell_type": "markdown",
   "metadata": {},
   "source": [
    "12. Genera una función que al recibir una frase devuelva una lista con la longitud de cada palabra. Usa la función map()"
   ]
  },
  {
   "cell_type": "code",
   "execution_count": null,
   "metadata": {},
   "outputs": [],
   "source": [
    "def longitud(lista):\n",
    "    lista_longitud = len(lista)\n",
    "    return lista_longitud"
   ]
  },
  {
   "cell_type": "code",
   "execution_count": null,
   "metadata": {},
   "outputs": [],
   "source": [
    "frase = input(\"Dime una frase:\").split()"
   ]
  },
  {
   "cell_type": "code",
   "execution_count": null,
   "metadata": {},
   "outputs": [],
   "source": [
    "lista_longitud = list(map(longitud,frase))\n",
    "print(lista_longitud)"
   ]
  },
  {
   "cell_type": "markdown",
   "metadata": {},
   "source": [
    "13. Genera una función la cual, para un conjunto de caracteres, devuelva una lista de tuplas con cada letra en\n",
    "mayúsculas y minúsculas. Las letras no pueden estar repetidas .Usa la función map()"
   ]
  },
  {
   "cell_type": "code",
   "execution_count": null,
   "metadata": {},
   "outputs": [],
   "source": [
    "def letras(conjunto):\n",
    "    conjunto_filtrado = set(filter(str.isalpha,conjunto))\n",
    "    resultado = list(map(lambda letra: (letra.upper(),letra.lower()),conjunto_filtrado))\n",
    "    return resultado"
   ]
  },
  {
   "cell_type": "code",
   "execution_count": null,
   "metadata": {},
   "outputs": [],
   "source": [
    "caracteres = input(\"Introduce una lista de caracteres separados por coma:\").split(\",\")"
   ]
  },
  {
   "cell_type": "code",
   "execution_count": null,
   "metadata": {},
   "outputs": [],
   "source": [
    "resultado = set(letras(caracteres))\n",
    "print(resultado)"
   ]
  },
  {
   "cell_type": "markdown",
   "metadata": {},
   "source": [
    "14. Crea una función que retorne las palabras de una lista de palabras que comience con una letra en especifico. Usa la\n",
    "función filter()"
   ]
  },
  {
   "cell_type": "code",
   "execution_count": null,
   "metadata": {},
   "outputs": [],
   "source": [
    "def filtro(lista,letra):\n",
    "    return list(filter(lambda palabra: palabra.lower().startswith(letra.lower()), lista))"
   ]
  },
  {
   "cell_type": "code",
   "execution_count": null,
   "metadata": {},
   "outputs": [],
   "source": [
    "lista_filtrar = input(\"Dime una lista de palabras:\").split(\",\")\n",
    "letra_filtrar = input(\"Escribe una letra por la cual quieras filtrar: \")\n",
    "lista_minusculas = list(map(str.lower,lista_filtrar))\n",
    "letra_minuscula = letra_filtrar.lower()"
   ]
  },
  {
   "cell_type": "code",
   "execution_count": null,
   "metadata": {},
   "outputs": [],
   "source": [
    "lista_filtrada = filtro(lista_minusculas,letra_minuscula)\n",
    "print(lista_filtrada)"
   ]
  },
  {
   "cell_type": "markdown",
   "metadata": {},
   "source": [
    "15. Crea una función lambda que sume 3 a cada número de una lista dada."
   ]
  },
  {
   "cell_type": "code",
   "execution_count": null,
   "metadata": {},
   "outputs": [],
   "source": [
    "lista_numero = list(input(\"Dame una lista de numeros separados por coma:\").split(\",\"))\n",
    "lista_numero_int = list(map(int,lista_numero))\n",
    "print(lista_numero_int)"
   ]
  },
  {
   "cell_type": "code",
   "execution_count": null,
   "metadata": {},
   "outputs": [],
   "source": [
    "lista_sumada = list(map(lambda x: x + 3,lista_numero_int))\n",
    "print(lista_sumada)"
   ]
  },
  {
   "cell_type": "markdown",
   "metadata": {},
   "source": [
    "16. Escribe una función que tome una cadena de texto y un número entero n como parámetros y devuelva una lista de\n",
    "todas las palabras que sean más largas que n. Usa la función filter()"
   ]
  },
  {
   "cell_type": "code",
   "execution_count": null,
   "metadata": {},
   "outputs": [],
   "source": [
    "def longitud(cadena,numero):\n",
    "    return list(filter(lambda palabra: len(palabra) > numero,cadena))"
   ]
  },
  {
   "cell_type": "code",
   "execution_count": null,
   "metadata": {},
   "outputs": [],
   "source": [
    "cadena_texto = input(\"Escribe una frase:\").split()\n",
    "palabra_maximo = int(input(\"Dime un numero:\"))"
   ]
  },
  {
   "cell_type": "code",
   "execution_count": null,
   "metadata": {},
   "outputs": [],
   "source": [
    "cadena_filtrada = longitud(cadena_texto,palabra_maximo)\n",
    "print(cadena_filtrada)"
   ]
  },
  {
   "cell_type": "markdown",
   "metadata": {},
   "source": [
    "17. Crea una función que tome una lista de dígitos y devuelva el número correspondiente. Por ejemplo, [5,7,2]\n",
    "corresponde al número quinientos setenta y dos (572). Usa la función reduce()"
   ]
  },
  {
   "cell_type": "code",
   "execution_count": null,
   "metadata": {},
   "outputs": [],
   "source": [
    "from functools import reduce"
   ]
  },
  {
   "cell_type": "code",
   "execution_count": null,
   "metadata": {},
   "outputs": [],
   "source": [
    "lista_concatenar = input(\"Dame un alista de numeros separados por coma: \").split(\",\")"
   ]
  },
  {
   "cell_type": "code",
   "execution_count": null,
   "metadata": {},
   "outputs": [],
   "source": [
    "numero = reduce(lambda x, y: x + y,lista_concatenar)\n",
    "print(numero)"
   ]
  },
  {
   "cell_type": "markdown",
   "metadata": {},
   "source": [
    "18. Escribe un programa en Python que cree una lista de diccionarios que contenga información de estudiantes\n",
    "(nombre, edad, calificación) y use la función filter para extraer a los estudiantes con una calificación mayor o igual a\n",
    "90. Usa la función filter()"
   ]
  },
  {
   "cell_type": "code",
   "execution_count": null,
   "metadata": {},
   "outputs": [],
   "source": [
    "def obtener_estudiantes():\n",
    "    estudiantes = []  # Lista vacía para almacenar los diccionarios de estudiantes\n",
    "    \n",
    "    while True:\n",
    "        nombre = input(\"Introduce el nombre del estudiante (o escribe 'salir' para terminar): \").strip()\n",
    "        if nombre.lower() == \"salir\":\n",
    "            break\n",
    "\n",
    "        try:\n",
    "            edad = int(input(f\"Introduce la edad de {nombre}: \"))\n",
    "            calificacion = int(input(f\"Introduce la calificación de {nombre} (0-100): \"))\n",
    "\n",
    "            # Validar que la calificación esté en el rango correcto\n",
    "            if not (0 <= calificacion <= 100):\n",
    "                print(\"Error: La calificación debe estar entre 0 y 100. Inténtalo de nuevo.\")\n",
    "                continue\n",
    "            estudiantes.append({\"nombre\": nombre, \"edad\": edad, \"calificacion\": calificacion})\n",
    "        except ValueError:\n",
    "            print(\"Error: La edad y la calificación deben ser números enteros. Inténtalo de nuevo.\")\n",
    "    return estudiantes"
   ]
  },
  {
   "cell_type": "code",
   "execution_count": null,
   "metadata": {},
   "outputs": [],
   "source": [
    "estudiantes = obtener_estudiantes()"
   ]
  },
  {
   "cell_type": "code",
   "execution_count": null,
   "metadata": {},
   "outputs": [],
   "source": [
    "estudiantes_destacados = list(filter(lambda estudiante: estudiante[\"calificacion\"] >= 90, estudiantes))"
   ]
  },
  {
   "cell_type": "code",
   "execution_count": null,
   "metadata": {},
   "outputs": [],
   "source": [
    "print(\"Estudiantes con calificación mayor o igual a 90:\")\n",
    "for estudiante in estudiantes_destacados:\n",
    "    print(estudiante[\"nombre\"])"
   ]
  },
  {
   "cell_type": "markdown",
   "metadata": {},
   "source": [
    "19. Crea una función lambda que filtre los números impares de una lista dada."
   ]
  },
  {
   "cell_type": "code",
   "execution_count": null,
   "metadata": {},
   "outputs": [],
   "source": [
    "lista_mix = input(\"Dame una lista de numeros enteros deparados por comas: \").split(\",\")"
   ]
  },
  {
   "cell_type": "code",
   "execution_count": null,
   "metadata": {},
   "outputs": [],
   "source": [
    "lista_enteros = list(map(int,lista_mix))"
   ]
  },
  {
   "cell_type": "code",
   "execution_count": null,
   "metadata": {},
   "outputs": [],
   "source": [
    "lista_impar = list(filter(lambda x: x % 2 != 0,lista_enteros))\n",
    "print(lista_impar)"
   ]
  },
  {
   "cell_type": "markdown",
   "metadata": {},
   "source": [
    "20. Para una lista con elementos tipo integer y string obtén una nueva lista sólo con los valores int. Usa la función\n",
    "filter()"
   ]
  },
  {
   "cell_type": "code",
   "execution_count": null,
   "metadata": {},
   "outputs": [],
   "source": [
    "def lista_integer(lista):\n",
    "    return list(filter(lambda palabra: type(palabra) == int,lista))"
   ]
  },
  {
   "cell_type": "code",
   "execution_count": null,
   "metadata": {},
   "outputs": [],
   "source": [
    "lista_int_str = [1,'hola',2,'adios']"
   ]
  },
  {
   "cell_type": "code",
   "execution_count": null,
   "metadata": {},
   "outputs": [],
   "source": [
    "lista_int = lista_integer(lista_int_str)\n",
    "print(lista_int)"
   ]
  },
  {
   "cell_type": "markdown",
   "metadata": {},
   "source": [
    "21. Crea una función que calcule el cubo de un número dado mediante una función lambda"
   ]
  },
  {
   "cell_type": "code",
   "execution_count": null,
   "metadata": {},
   "outputs": [],
   "source": [
    "numero = int(input(\"Dame un numero entero: \"))"
   ]
  },
  {
   "cell_type": "code",
   "execution_count": null,
   "metadata": {},
   "outputs": [],
   "source": [
    "cubo_num = lambda num: num**3\n",
    "cubo_numero = cubo_num(numero)\n",
    "print(cubo_numero)"
   ]
  },
  {
   "cell_type": "markdown",
   "metadata": {},
   "source": [
    "22. Dada una lista numérica, obtén el producto total de los valores de dicha lista.Usa la función reduce() "
   ]
  },
  {
   "cell_type": "code",
   "execution_count": null,
   "metadata": {},
   "outputs": [],
   "source": [
    "from functools import reduce"
   ]
  },
  {
   "cell_type": "code",
   "execution_count": null,
   "metadata": {},
   "outputs": [],
   "source": [
    "lista_numeros = [1,2,3,4,5,6,7,8,9]"
   ]
  },
  {
   "cell_type": "code",
   "execution_count": null,
   "metadata": {},
   "outputs": [],
   "source": [
    "producto_total = reduce(lambda x,y: x*y,lista_numeros)\n",
    "print(producto_total)"
   ]
  },
  {
   "cell_type": "markdown",
   "metadata": {},
   "source": [
    "23. Concatena una lista de palabras.Usa la función reduce()"
   ]
  },
  {
   "cell_type": "code",
   "execution_count": null,
   "metadata": {},
   "outputs": [],
   "source": [
    "lista_palabras = ['el', 'pez', 'blanco']"
   ]
  },
  {
   "cell_type": "code",
   "execution_count": null,
   "metadata": {},
   "outputs": [],
   "source": [
    "concatenacion = reduce(lambda x,y: x + y, lista_palabras)\n",
    "print(concatenacion)"
   ]
  },
  {
   "cell_type": "markdown",
   "metadata": {},
   "source": [
    "24. Calcula la diferencia total en los valores de una lista. Usa la función reduce()"
   ]
  },
  {
   "cell_type": "code",
   "execution_count": null,
   "metadata": {},
   "outputs": [],
   "source": [
    "lista_diferencia = input(\"Dame una lista de numeros separados por coma: \").split(\",\")"
   ]
  },
  {
   "cell_type": "code",
   "execution_count": null,
   "metadata": {},
   "outputs": [],
   "source": [
    "lista_diferencia_int = list(map(int,lista_diferencia))"
   ]
  },
  {
   "cell_type": "code",
   "execution_count": null,
   "metadata": {},
   "outputs": [],
   "source": [
    "diferencia_total = reduce(lambda x,y: x-y,lista_diferencia_int)\n",
    "print(diferencia_total)"
   ]
  },
  {
   "cell_type": "markdown",
   "metadata": {},
   "source": [
    "25. Crea una función que cuente el número de caracteres en una cadena de texto dada."
   ]
  },
  {
   "cell_type": "code",
   "execution_count": null,
   "metadata": {},
   "outputs": [],
   "source": [
    "def contar_letras(frase):\n",
    "    numero_total = 0\n",
    "    for palabra in frase:\n",
    "        numero_total += len(palabra)\n",
    "    return numero_total"
   ]
  },
  {
   "cell_type": "code",
   "execution_count": null,
   "metadata": {},
   "outputs": [],
   "source": [
    "cadena_txt = input(\"Dime una frase: \")\n",
    "cadena_txt_no_comas = cadena_txt.replace(\",\",\" \") #Eliminamos las comas y las convertimos en un espacio\n",
    "palabras = cadena_txt_no_comas.split()"
   ]
  },
  {
   "cell_type": "code",
   "execution_count": null,
   "metadata": {},
   "outputs": [],
   "source": [
    "numero_letras = contar_letras(palabras)\n",
    "print(numero_letras)"
   ]
  },
  {
   "cell_type": "markdown",
   "metadata": {},
   "source": [
    "26. Crea una función lambda que calcule el resto de la división entre dos números dados."
   ]
  },
  {
   "cell_type": "code",
   "execution_count": null,
   "metadata": {},
   "outputs": [],
   "source": [
    "resto_division = lambda x,y: x % y"
   ]
  },
  {
   "cell_type": "code",
   "execution_count": null,
   "metadata": {},
   "outputs": [],
   "source": [
    "primer_numero = float(input(\"Introduce el numerador:\"))\n",
    "segundo_numero = float(input(\"Introduce el denominador: \"))"
   ]
  },
  {
   "cell_type": "code",
   "execution_count": null,
   "metadata": {},
   "outputs": [],
   "source": [
    "resultado_resto = resto_division(primer_numero,segundo_numero)\n",
    "print(resultado_resto)"
   ]
  },
  {
   "cell_type": "markdown",
   "metadata": {},
   "source": [
    "27. Crea una función que calcule el promedio de una lista de números."
   ]
  },
  {
   "cell_type": "code",
   "execution_count": null,
   "metadata": {},
   "outputs": [],
   "source": [
    "def avg(lista):\n",
    "    suma_total = 0\n",
    "    for numero in lista:\n",
    "        suma_total += numero\n",
    "    avg = suma_total / len(lista)\n",
    "    return avg"
   ]
  },
  {
   "cell_type": "code",
   "execution_count": null,
   "metadata": {},
   "outputs": [],
   "source": [
    "lista_promedio = input(\"Dame una lista de numeros separados por coma: \").split(\",\")\n",
    "lista_promedio_int = list(map(int,lista_promedio))"
   ]
  },
  {
   "cell_type": "code",
   "execution_count": null,
   "metadata": {},
   "outputs": [],
   "source": [
    "promedio_lista = avg(lista_promedio_int)\n",
    "print(promedio_lista)"
   ]
  },
  {
   "cell_type": "markdown",
   "metadata": {},
   "source": [
    "28. Crea una función que busque y devuelva el primer elemento duplicado en una lista dada."
   ]
  },
  {
   "cell_type": "code",
   "execution_count": null,
   "metadata": {},
   "outputs": [],
   "source": [
    "def duplicado(lista):\n",
    "    nueva_lista = []\n",
    "    for elemento in lista:\n",
    "        nueva_lista.append(elemento)\n",
    "        if elemento in nueva_lista:\n",
    "            return elemento\n",
    "    return nueva_lista"
   ]
  },
  {
   "cell_type": "code",
   "execution_count": null,
   "metadata": {},
   "outputs": [],
   "source": [
    "lista_elementos = [1,2,'hola',3,1,'hola']"
   ]
  },
  {
   "cell_type": "code",
   "execution_count": null,
   "metadata": {},
   "outputs": [],
   "source": [
    "elemento_duplicado = duplicado(lista_elementos)\n",
    "print(elemento_duplicado)"
   ]
  },
  {
   "cell_type": "markdown",
   "metadata": {},
   "source": [
    "29. Crea una función que convierta una variable en una cadena de texto y enmascare todos los caracteres con el\n",
    "carácter '#', excepto los últimos cuatro."
   ]
  },
  {
   "cell_type": "code",
   "execution_count": null,
   "metadata": {},
   "outputs": [],
   "source": [
    "def enmascara(cadena):\n",
    "    cadena_enmascarada = ''\n",
    "    for elemento in cadena[:-4]:\n",
    "        elemento = '#'\n",
    "        cadena_enmascarada += elemento\n",
    "    for elemento in cadena[-4:]:\n",
    "        cadena_enmascarada += elemento\n",
    "    return cadena_enmascarada"
   ]
  },
  {
   "cell_type": "code",
   "execution_count": null,
   "metadata": {},
   "outputs": [],
   "source": [
    "variable =input(\"Dime una contraseña\")\n",
    "variable_sin_espacios = variable.replace(\" \",\"\")\n",
    "variable_str = str(variable_sin_espacios)"
   ]
  },
  {
   "cell_type": "code",
   "execution_count": null,
   "metadata": {},
   "outputs": [],
   "source": [
    "variable_enmascarada = enmascara(variable_str)\n",
    "print(variable_enmascarada)"
   ]
  },
  {
   "cell_type": "markdown",
   "metadata": {},
   "source": [
    "30. Crea una función que determine si dos palabras son anagramas, es decir, si están formadas por las mismas letras\n",
    "pero en diferente orden."
   ]
  },
  {
   "cell_type": "code",
   "execution_count": null,
   "metadata": {},
   "outputs": [],
   "source": [
    "def anagrama(pri,seg):\n",
    "    palabra_1_ord = sorted(pri)\n",
    "    palabra_2_ord = sorted(seg)\n",
    "    if palabra_1_ord == palabra_2_ord:\n",
    "        return \"Las dos palabras dadas son anagramas\"\n",
    "    else:\n",
    "        return \"Las dos palabras dadas no son anagramas\""
   ]
  },
  {
   "cell_type": "code",
   "execution_count": null,
   "metadata": {},
   "outputs": [],
   "source": [
    "palabra_1 = list(input(\"Dime una palabra: \"))\n",
    "palabra_2 = list(input(\"Dime una segunda palabra: \"))"
   ]
  },
  {
   "cell_type": "code",
   "execution_count": null,
   "metadata": {},
   "outputs": [],
   "source": [
    "comprobacion = anagrama(palabra_1,palabra_2)\n",
    "print(comprobacion)"
   ]
  },
  {
   "cell_type": "markdown",
   "metadata": {},
   "source": [
    "31. Crea una función que solicite al usuario ingresar una lista de nombres y luego solicite un nombre para buscar en\n",
    "esa lista. Si el nombre está en la lista, se imprime un mensaje indicando que fue encontrado, de lo contrario, se\n",
    "lanza una excepción."
   ]
  },
  {
   "cell_type": "code",
   "execution_count": null,
   "metadata": {},
   "outputs": [],
   "source": [
    "def busqueda():\n",
    "        lista_Nombres = input(\"Dime una lista de nombres separados por coma: \").split(\",\")\n",
    "        lista_nombres_min = list(map(str.lower,lista_Nombres))\n",
    "        nombre_buscar = input(\"Escribe el nombre que quieras buscar: \").lower()\n",
    "        for nombre in lista_nombres_min:\n",
    "                if nombre_buscar in nombre:\n",
    "                    print(f\"Se ha encontrado el nombre que buscabas!\")\n",
    "                    return\n",
    "        raise ValueError "
   ]
  },
  {
   "cell_type": "code",
   "execution_count": null,
   "metadata": {},
   "outputs": [],
   "source": [
    "try:\n",
    "    busqueda()\n",
    "except ValueError:\n",
    "    print(f\"El nombre introducido no fue encontrado en la lista\")"
   ]
  },
  {
   "cell_type": "markdown",
   "metadata": {},
   "source": [
    "32. Crea una función que tome un nombre completo y una lista de empleados, busque el nombre completo en la lista y devuelve el puesto del empleado si está en la lista, de lo contrario, devuelve un mensaje indicando que la persona no trabaja aquí."
   ]
  },
  {
   "cell_type": "code",
   "execution_count": null,
   "metadata": {},
   "outputs": [],
   "source": [
    "def empleado(nombre,lista):\n",
    "    for nom in lista:\n",
    "        nombre_minusculas = list(map(str.lower,nom[\"nombre\"]))\n",
    "        if nombre_minusculas == nombre_minusculas:\n",
    "            return f\"{nombre} se encuentra en la lista y es {nom['puesto']} \"\n",
    "        else:\n",
    "            return f\"{nombre} no se encuentra trabajando en este lugar\""
   ]
  },
  {
   "cell_type": "code",
   "execution_count": null,
   "metadata": {},
   "outputs": [],
   "source": [
    "lista_empleados = [\n",
    "    {\"nombre\": \"Ana López\", \"puesto\": \"Contable\"},\n",
    "    {\"nombre\": \"Carlos Ruiz\", \"puesto\": \"Ingeniero\"},\n",
    "    {\"nombre\": \"María García\", \"puesto\": \"Diseñadora\"},\n",
    "]"
   ]
  },
  {
   "cell_type": "code",
   "execution_count": null,
   "metadata": {},
   "outputs": [],
   "source": [
    "nombre = input(\"Introduce el nombre de un empleado: \")"
   ]
  },
  {
   "cell_type": "code",
   "execution_count": null,
   "metadata": {},
   "outputs": [],
   "source": [
    "resultado = empleado(nombre,lista_empleados)\n",
    "print(resultado)"
   ]
  },
  {
   "cell_type": "markdown",
   "metadata": {},
   "source": [
    "33. Crea una función lambda que sume elementos correspondientes de dos listas dadas."
   ]
  },
  {
   "cell_type": "code",
   "execution_count": null,
   "metadata": {},
   "outputs": [],
   "source": [
    "lista1 = [1,2,3]\n",
    "lista2 = [3,4,5]"
   ]
  },
  {
   "cell_type": "code",
   "execution_count": null,
   "metadata": {},
   "outputs": [],
   "source": [
    "suma = list(map(lambda x,y: x+y,lista1,lista2))\n",
    "print(suma)"
   ]
  },
  {
   "cell_type": "markdown",
   "metadata": {},
   "source": [
    "34. Crea la clase Arbol , define un árbol genérico con un tronco y ramas como atributos. Los métodos disponibles son: crecer_tronco , nueva_rama , crecer_ramas , quitar_rama e info_arbol . El objetivo es implementar estos métodos para manipular la estructura del árbol."
   ]
  },
  {
   "cell_type": "code",
   "execution_count": null,
   "metadata": {},
   "outputs": [],
   "source": [
    "class arbol:\n",
    "    def __init__(self):\n",
    "        self.tronco = 1\n",
    "        self.ramas = []\n",
    "    def crecer_tronco(self):\n",
    "        self.tronco += 1\n",
    "    def nueva_rama(self):\n",
    "        self.ramas.append(1)\n",
    "    def crecer_ramas(self):\n",
    "        for rama in self.ramas:\n",
    "            rama + 1\n",
    "    def quitar_rama(self,posicion):\n",
    "        self.ramas.pop(posicion)\n",
    "    def info_arbol(self):\n",
    "        print(f\"La longitud del tronco es: {self.tronco}\")\n",
    "        print(f\"Hay {len(self.ramas)} ramas\")\n",
    "        print(f\"Las longitudes de las ramas son: {self.ramas}\")"
   ]
  },
  {
   "cell_type": "code",
   "execution_count": null,
   "metadata": {},
   "outputs": [],
   "source": [
    "# 1. Crear un árbol\n",
    "mi_arbol = arbol()\n",
    "# 2. Hacer crecer el tronco una unidad\n",
    "mi_arbol.crecer_tronco()\n",
    "# 3. Añadir una nueva rama\n",
    "mi_arbol.nueva_rama()\n",
    "# 4. Hacer crecer todas las ramas una unidad\n",
    "mi_arbol.crecer_ramas()\n",
    "# 5. Añadir dos nuevas ramas\n",
    "mi_arbol.nueva_rama()\n",
    "mi_arbol.nueva_rama()\n",
    "# 6. Retirar la rama situada en la posición 2 \n",
    "mi_arbol.quitar_rama(2)\n",
    "# 7. Obtener información del árbol\n",
    "print(mi_arbol.info_arbol())"
   ]
  },
  {
   "cell_type": "markdown",
   "metadata": {},
   "source": [
    "36. Crea la clase UsuarioBanco ,representa a un usuario de un banco con su nombre, saldo y si tiene o no cuenta corriente. Proporciona métodos para realizar operaciones como retirar dinero, transferir dinero desde otro usuario y agregar dinero al saldo."
   ]
  },
  {
   "cell_type": "code",
   "execution_count": null,
   "metadata": {},
   "outputs": [],
   "source": [
    "class UsuarioBanco:\n",
    "    def __init__(self):\n",
    "        self.usuario = {}\n",
    "    def retirar_dinero(self,clave):\n",
    "        cantidad = float(input(\"Que cantidad quieres retirar: \"))\n",
    "        if self.usuario[clave] >= cantidad:\n",
    "                self.usuario[clave] -= cantidad\n",
    "                if self.usuario[clave] == 0:\n",
    "                    print(\"No se puede retirar dinero, la cuenta esta vacia.\")\n",
    "        else:\n",
    "            print(\"No se puede retirar ese dinero, saldo insuficiente.\")\n",
    "    def transferir_dinero(self,clave):\n",
    "        destino = input(\"A que usuario quieres transferir dinero: \")\n",
    "        transferencia = float(input(\"Cuanto quieres transferir: \"))\n",
    "        if self.usuario[clave] >= transferencia:\n",
    "            self.usuario[clave] -= transferencia\n",
    "            self.usuario[destino] += transferencia\n",
    "        else:\n",
    "            print(\"No se puede realizar la transferencia, fondos insuficientes\")    \n",
    "    def agregar_dinero(self,clave):\n",
    "        dinero = float(input((\"Cuanto dinero quieres ingresar: \")))\n",
    "        self.usuario[clave] += dinero"
   ]
  },
  {
   "cell_type": "code",
   "execution_count": null,
   "metadata": {},
   "outputs": [],
   "source": [
    "banco = UsuarioBanco()\n",
    "\n",
    "banco.usuario[\"Alicia\"] = 100\n",
    "banco.usuario[\"Bob\"] = 50\n",
    "banco.agregar_dinero(\"Bob\")"
   ]
  },
  {
   "cell_type": "code",
   "execution_count": null,
   "metadata": {},
   "outputs": [],
   "source": [
    "banco.transferir_dinero(\"Bob\") #El nombre es el de el origen del dinero, en este caso Bob"
   ]
  },
  {
   "cell_type": "code",
   "execution_count": null,
   "metadata": {},
   "outputs": [],
   "source": [
    "banco.retirar_dinero(\"Alicia\")"
   ]
  },
  {
   "cell_type": "code",
   "execution_count": null,
   "metadata": {},
   "outputs": [],
   "source": [
    "print(banco.usuario)"
   ]
  },
  {
   "cell_type": "markdown",
   "metadata": {},
   "source": [
    "37. Crea una función llamada procesar_texto que procesa un texto según la opción especificada: contar_palabras ,\n",
    "reemplazar_palabras , eliminar_palabra . Estas opciones son otras funciones que tenemos que definir primero y llamar dentro\n",
    "de la función procesar_texto ."
   ]
  },
  {
   "cell_type": "code",
   "execution_count": null,
   "metadata": {},
   "outputs": [],
   "source": [
    "def contar_palabras(palabras):\n",
    "    recuento = {}\n",
    "    for palabra in set(palabras):\n",
    "        if palabra in recuento:\n",
    "            recuento[palabra] += 1\n",
    "        else:\n",
    "            recuento[palabra] = 1\n",
    "    return recuento"
   ]
  },
  {
   "cell_type": "code",
   "execution_count": null,
   "metadata": {},
   "outputs": [],
   "source": [
    "def reemplazar_palabras(palabra_original,palabra_nueva,palabras):\n",
    "    lista_palabras = []\n",
    "    for palabra in palabras:\n",
    "        if palabra == palabra_original:\n",
    "            lista_palabras.append(palabra_nueva)\n",
    "        else:\n",
    "            lista_palabras.append(palabra)\n",
    "    texto = \" \".join(lista_palabras)\n",
    "    return texto"
   ]
  },
  {
   "cell_type": "code",
   "execution_count": null,
   "metadata": {},
   "outputs": [],
   "source": [
    "def eliminar_palabra(palabras):\n",
    "    palabra_a_eliminar = input(\"¿Que palabra quieres eliminar?: \")\n",
    "    if palabra_a_eliminar in palabras:\n",
    "        palabras.pop(palabras.index(palabra_a_eliminar))\n",
    "    else:\n",
    "        print(\"Esa palabra no existe en el texto.\")\n",
    "    texto = \" \".join(palabras)\n",
    "    return texto"
   ]
  },
  {
   "cell_type": "code",
   "execution_count": null,
   "metadata": {},
   "outputs": [],
   "source": [
    "def procesar_texto(texto,opcion):\n",
    "    if opcion == \"contar\":\n",
    "       resultado_contar = contar_palabras(texto)\n",
    "       print(resultado_contar)\n",
    "       return False\n",
    "    elif opcion == \"reemplazar\":\n",
    "        palabra_vieja = input(\"Que palabra quieres reemplazar:\").lower()\n",
    "        palabra_nueva = input(\"Por que palabra la quieres reemplazar: \").lower()\n",
    "        resultado_reemplazar = reemplazar_palabras(palabra_vieja,palabra_nueva,texto)\n",
    "        print(resultado_reemplazar)\n",
    "        return False\n",
    "    elif opcion == \"eliminar\":\n",
    "        resultado_eliminar = eliminar_palabra(texto)\n",
    "        print(resultado_eliminar)\n",
    "        return False\n",
    "    elif opcion == \"salir\":\n",
    "        print(\"Hasta luego!\")\n",
    "        return False\n",
    "    else:\n",
    "        print(\"Opcion no valida\")\n",
    "    "
   ]
  },
  {
   "cell_type": "code",
   "execution_count": null,
   "metadata": {},
   "outputs": [],
   "source": [
    "texto = input(\"Escribe un texto:\")\n",
    "limpio = texto.replace(\",\",\"\")\n",
    "palabras = limpio.lower().split()\n",
    "while True:    \n",
    "    opcion = input(\"¿Que quieres hacer? Contar,reemplazar, eliminar o salir: \").lower()\n",
    "    resultado = procesar_texto(palabras,opcion)\n",
    "    if resultado == False:\n",
    "        break"
   ]
  },
  {
   "cell_type": "markdown",
   "metadata": {},
   "source": [
    "38. Genera un programa que nos diga si es de noche, de día o tarde según la hora proporcionada por el usuario."
   ]
  },
  {
   "cell_type": "code",
   "execution_count": null,
   "metadata": {},
   "outputs": [],
   "source": [
    "from datetime import datetime"
   ]
  },
  {
   "cell_type": "code",
   "execution_count": null,
   "metadata": {},
   "outputs": [],
   "source": [
    "try:\n",
    "    entrada = input(\"Introduce la hora (formato HH:MM, por ejemplo 14:25): \")\n",
    "    hora_formato = datetime.strptime(entrada, \"%H:%M\")\n",
    "    hora = hora_formato.hour\n",
    "    print(f\"La hora introducida es: {hora_formato.strftime('%H:%M')}\")\n",
    "    if 6 <= hora < 12:\n",
    "        print(\"Es de día (mañana).\")\n",
    "    elif 12 <= hora < 20:\n",
    "        print(\"Es de tarde.\")\n",
    "    elif 0 <= hora < 6 or 20 <= hora <= 23:\n",
    "        print(\"Es de noche.\")\n",
    "    else:\n",
    "        print(\"Hora no válida.\")\n",
    "except ValueError:\n",
    "    print(\"Formato inválido. Asegúrate de escribir la hora como HH:MM (ej. 09:30 o 18:45)\")\n"
   ]
  },
  {
   "cell_type": "markdown",
   "metadata": {},
   "source": [
    "39. Escribe un programa que determine qué calificación en texto tiene un alumno en base a su calificación numérica.\n",
    "Las reglas de calificación son:\n",
    "- 0 - 69 insuficiente\n",
    "- 70 - 79 bien\n",
    "- 80 - 89 muy bien\n",
    "- 90 - 100 excelente"
   ]
  },
  {
   "cell_type": "code",
   "execution_count": null,
   "metadata": {},
   "outputs": [],
   "source": [
    "nota =float(input(\"Introduce tu nota: \")) #Puede ser que hayan notas con decimales, por ejemplo, 59.8\n",
    "if nota < 0:\n",
    "    print(\"Introduce una nota valida\")\n",
    "elif 0 <= nota <= 69:\n",
    "    print(\"Nota: Insuficiente\")\n",
    "elif 70 <= nota <= 79:\n",
    "    print(\"Nota: Bien\")\n",
    "elif 80 <= nota <= 89:\n",
    "    print(\"Nota: Muy bien\")\n",
    "else:\n",
    "    print(\"Nota: Excelente\")"
   ]
  },
  {
   "cell_type": "markdown",
   "metadata": {},
   "source": [
    "40. Escribe una función que tome dos parámetros: figura (una cadena que puede ser \"rectangulo\" , \"circulo\" o\n",
    "\"triangulo\" ) y datos (una tupla con los datos necesarios para calcular el área de la figura)."
   ]
  },
  {
   "cell_type": "code",
   "execution_count": null,
   "metadata": {},
   "outputs": [],
   "source": [
    "from math import pi"
   ]
  },
  {
   "cell_type": "code",
   "execution_count": null,
   "metadata": {},
   "outputs": [],
   "source": [
    "def rectangulo(ancho,altura):\n",
    "    return ancho*altura"
   ]
  },
  {
   "cell_type": "code",
   "execution_count": null,
   "metadata": {},
   "outputs": [],
   "source": [
    "def circulo(radio):\n",
    "    return round(pi*(radio**2),3)"
   ]
  },
  {
   "cell_type": "code",
   "execution_count": null,
   "metadata": {},
   "outputs": [],
   "source": [
    "def triangulo(base,altura):\n",
    "    return (base*altura)/2"
   ]
  },
  {
   "cell_type": "code",
   "execution_count": null,
   "metadata": {},
   "outputs": [],
   "source": [
    "def area(figura,datos):\n",
    "    if figura == \"rectangulo\":\n",
    "        ancho,altura = datos\n",
    "        area_rectangulo = rectangulo(ancho,altura)\n",
    "        print(\"El area del rectangulo es: \",area_rectangulo)\n",
    "        return False\n",
    "    elif figura == \"circulo\":\n",
    "        (radio,) = datos\n",
    "        area_circulo = circulo(radio)\n",
    "        print(\"El area del circulo es: \",area_circulo)\n",
    "        return False\n",
    "    elif figura == \"triangulo\":\n",
    "        base, altura_triangulo = datos\n",
    "        area_triangulo = triangulo(base,altura_triangulo)\n",
    "        print(\"El area del triangulo es: \",area_triangulo)\n",
    "        return False    \n",
    "    else:\n",
    "        print(\"Introduce una respuesta valida\")"
   ]
  },
  {
   "cell_type": "code",
   "execution_count": null,
   "metadata": {},
   "outputs": [],
   "source": [
    "while True:\n",
    "    preferencia = input(\"De que figura quiere calcular el area: Rectangulo, triangulo o circulo -->\").lower()\n",
    "    datos_lista = input(f\"Dime los datos geometricos necesarios para calcular el area del {preferencia} (si hay mas de uno, separalos por comas y primero ira el ancho/base y luego la altura)\").split(\",\")\n",
    "    datos = tuple(map(float,datos_lista))\n",
    "    salir = area(preferencia,datos)\n",
    "    if salir == False:\n",
    "        break"
   ]
  },
  {
   "cell_type": "markdown",
   "metadata": {},
   "source": [
    "41. En este ejercicio, se te pedirá que escribas un programa en Python que utilice condicionales para determinar el\n",
    "monto final de una compra en una tienda en línea, después de aplicar un descuento."
   ]
  },
  {
   "cell_type": "code",
   "execution_count": null,
   "metadata": {},
   "outputs": [],
   "source": [
    "precio = int(input(\"Ingresa el precio original del producto: \"))\n",
    "tener_descuento = input(\"¿Tienes descuento? Si o No: \").lower()\n",
    "if tener_descuento == \"si\":\n",
    "    valor_descuento = int(input(\"Introduce el valor del descuento (en €): \"))\n",
    "    if valor_descuento <= 0:\n",
    "        print(\"El valor del descuento no es valido\")\n",
    "    else: \n",
    "        precio_con_descuento = precio - valor_descuento\n",
    "else:\n",
    "    precio_con_descuento = precio\n",
    "print(f\"Valor final del producto: {precio_con_descuento} €\")"
   ]
  }
 ],
 "metadata": {
  "kernelspec": {
   "display_name": "Python 3",
   "language": "python",
   "name": "python3"
  },
  "language_info": {
   "codemirror_mode": {
    "name": "ipython",
    "version": 3
   },
   "file_extension": ".py",
   "mimetype": "text/x-python",
   "name": "python",
   "nbconvert_exporter": "python",
   "pygments_lexer": "ipython3",
   "version": "3.12.2"
  }
 },
 "nbformat": 4,
 "nbformat_minor": 2
}
